{
 "cells": [
  {
   "cell_type": "code",
   "execution_count": null,
   "id": "a2a3f890-f6d2-4b52-8edd-3d0da0e6e2a0",
   "metadata": {},
   "outputs": [],
   "source": [
    "%load_ext autoreload\n",
    "%autoreload 2"
   ]
  },
  {
   "cell_type": "code",
   "execution_count": null,
   "id": "029c902a-99d8-47de-8bdd-f93a834f3c46",
   "metadata": {},
   "outputs": [],
   "source": [
    "import os\n",
    "from datetime import date\n",
    "from multiprocessing.pool import Pool, ThreadPool\n",
    "from h2o.tree import H2OTree"
   ]
  },
  {
   "cell_type": "code",
   "execution_count": null,
   "id": "bb71ec29-3c7c-4e32-a978-62f64bfbbe56",
   "metadata": {},
   "outputs": [],
   "source": [
    "with open(\"../../database.env\") as f:\n",
    "    for line in f:\n",
    "        key, value = line.strip().split('=', 1)\n",
    "        os.environ[key] = value"
   ]
  },
  {
   "cell_type": "code",
   "execution_count": null,
   "id": "71108896-bdeb-41b1-a7f6-6c8e8e536261",
   "metadata": {},
   "outputs": [],
   "source": [
    "cons = []\n",
    "for db_name in [\"cf\", \"cf_win\", \"webkitmac\"]:\n",
    "    os.environ[\"DB_NAME\"] = db_name\n",
    "    cons.append({\n",
    "            \"host\"      : os.getenv(\"DB_HOST\"),\n",
    "            \"database\"  : os.getenv(\"DB_NAME\"),\n",
    "            \"user\"      : os.getenv(\"DB_USER\"),\n",
    "            \"password\"  : os.getenv(\"DB_PASSWORD\"),\n",
    "            \"port\": os.getenv(\"DB_PORT\"),\n",
    "        })"
   ]
  },
  {
   "cell_type": "markdown",
   "id": "9f394e08-300b-48b0-a000-cdb146d00b19",
   "metadata": {},
   "source": [
    "## Load data and prepare"
   ]
  },
  {
   "cell_type": "code",
   "execution_count": null,
   "id": "70650c48-e5f6-4b18-8a71-1cc4be6c2377",
   "metadata": {},
   "outputs": [],
   "source": [
    "#import importlib\n",
    "import helper\n",
    "#importlib.reload(helper)\n",
    "from helper import get_data, transform_data, remove_cannot_work, remove_unstable, observation_stats, check_sameness, create_trees\n",
    "from tree import create_tree_dirs"
   ]
  },
  {
   "cell_type": "code",
   "execution_count": null,
   "id": "a69277a8-3a1c-4425-9b6c-4a97b425b15d",
   "metadata": {},
   "outputs": [],
   "source": [
    "def run(args, tree_creation=True):\n",
    "    browser, inc_method, base_dir, cons = args\n",
    "    if browser == \"webkit\":\n",
    "        param_dict = cons[2]\n",
    "    elif inc_method == \"window.open\":\n",
    "        param_dict = cons[1]\n",
    "    else:\n",
    "        param_dict = cons[0]\n",
    "    # Load data\n",
    "    res, uf = get_data(browser, inc_method, param_dict, limit, log)\n",
    "    if log:\n",
    "        # Some stats\n",
    "        print(res[\"error_run\"].value_counts())\n",
    "        print(res[\"run\"].value_counts())\n",
    "    # Tranform every observation method to own row + smooth some of them\n",
    "    results, methods = transform_data(res, log)\n",
    "    # Remove methods that cannot work\n",
    "    results = remove_cannot_work(results, log)\n",
    "    # Check stability and remove unstable ones\n",
    "    results = remove_unstable(results, base_dir, conf=0.01, log=log)\n",
    "    # Drop all retests to make tree building and stuff faster\n",
    "    results = results.loc[results[\"run\"] == 0]\n",
    "    # Drop all duplicate entries (they have the same result)\n",
    "    results = results.loc[~results.duplicated(subset=[\"browser\", \"inc_method\", \"observation_method\", \"url_id\"], keep=\"first\")]\n",
    "    if len(results) == 0:\n",
    "        res = f\"{browser}-{inc_method} has no working methods\"\n",
    "        if log:\n",
    "            print(res)\n",
    "        return [browser, inc_method, \"does not work\"]\n",
    "    if log:\n",
    "        # Display count of observations\n",
    "        print(\"Count of observations:\")\n",
    "        observation_stats(results, threshold=100000000000)\n",
    "        \n",
    "    # Check sameness of observation methods\n",
    "    # (Only one tree has to be checked manually for same observation methods)\n",
    "    # Also remove very rare observations (probably errors)\n",
    "    # Webkit has 32 as the smallest regular count\n",
    "    results, same_channels = check_sameness(results, base_dir, log, threshold=32)\n",
    "\n",
    "\n",
    "    if tree_creation:\n",
    "        # Create trees\n",
    "        results = create_trees(results, uf, base_dir, log)\n",
    "        return [browser, inc_method, same_channels, results]\n",
    "    else:\n",
    "        return [results, uf]"
   ]
  },
  {
   "cell_type": "code",
   "execution_count": null,
   "id": "7a0843cf-4536-4ec1-9982-c3f55a43d18f",
   "metadata": {},
   "outputs": [],
   "source": [
    "base_dir = f\"/data/data/tbf/data_analysis/trees/{date.today().isoformat()}\"\n",
    "create_tree_dirs([], {\"base_dir\": base_dir})"
   ]
  },
  {
   "cell_type": "code",
   "execution_count": null,
   "id": "a11cfd69-bab5-487e-a1e7-2c1cfaa83b71",
   "metadata": {},
   "outputs": [],
   "source": [
    "#####################################################"
   ]
  },
  {
   "cell_type": "code",
   "execution_count": null,
   "id": "ae108cba-670b-4625-98d3-2e3a943093b7",
   "metadata": {},
   "outputs": [],
   "source": [
    "log = True\n",
    "limit = None\n",
    "# limit = 10000\n",
    "results, uf = run([\"webkit\", \"img\", base_dir, cons], tree_creation=False)\n"
   ]
  },
  {
   "cell_type": "code",
   "execution_count": null,
   "id": "8e1adc9c-a1bc-4840-a165-948aa92775d6",
   "metadata": {},
   "outputs": [],
   "source": [
    "#_ = check_sameness(results, base_dir, log=True, threshold=32)"
   ]
  },
  {
   "cell_type": "code",
   "execution_count": null,
   "id": "141ef2d4-8906-4d6f-85f3-3dd5a9f204e7",
   "metadata": {},
   "outputs": [],
   "source": [
    "def change_status_groups(row):\n",
    "    status_code = row[\"Status-Code\"]\n",
    "    if status_code in [\"204\", \"205\", \"304\", \"305\"]:\n",
    "        return f\"['{status_code}']\"\n",
    "    else:\n",
    "        return row[\"ecohd_status_groups\"]\n",
    "# uf[\"ecohd_status_groups2\"] = uf.apply(change_status_groups, axis=1)\n",
    "# tree_model, rule_fit_model = create_trees(results, uf, base_dir, log=True, return_early=False)"
   ]
  },
  {
   "cell_type": "code",
   "execution_count": null,
   "id": "eaec08d3-9ec4-41c2-9907-2d574e01cd95",
   "metadata": {},
   "outputs": [],
   "source": [
    "###########################################"
   ]
  },
  {
   "cell_type": "code",
   "execution_count": null,
   "id": "039817f3-f130-44c5-bed9-65b81759ef7b",
   "metadata": {},
   "outputs": [],
   "source": [
    "log = False\n",
    "limit = None\n",
    "browsers = [\"chromium\", \"firefox\", \"webkit\"]\n",
    "browsers = [\"webkit\"]\n",
    "pool_size = 5\n",
    "pool_size = 2\n",
    "inc_methods = [\"img\", \"iframe-dircsp\", \"iframe\", \"fetch-creds-no-cors-integrity\", \"audio\", \"link-stylesheet\", \n",
    "               \"fetch-creds-cors-manual\", \"video\", \"object\", \"link-prefetch\", \"fetch-creds-no-cors\",\n",
    "               \"double-script\", \"window.open\", \"embed\", \"style-import\", \"embed-img\", \"iframe-csp\",\n",
    "               \"script\", \"fetch-creds-cors-integrity\", \"fetch-creds-cors\", ]\n",
    "results = []\n",
    "if log:\n",
    "    with ThreadPool(1) as p:\n",
    "        results = p.map(run, [[browser, inc_method, base_dir, cons] for browser in browsers for inc_method in inc_methods])\n",
    "else:\n",
    "    with Pool(pool_size) as p:\n",
    "        results = p.map(run, [[browser, inc_method, base_dir, cons] for browser in browsers for inc_method in inc_methods])\n",
    "\n",
    "for res in results:\n",
    "    print(res)"
   ]
  },
  {
   "cell_type": "code",
   "execution_count": null,
   "id": "ae5de5db-9bc3-47e7-ad38-0d5c759ae8c8",
   "metadata": {},
   "outputs": [],
   "source": [
    "import pickle\n",
    "if 'results' in locals():\n",
    "    with open(\"results.pickle\", \"wb\") as f:\n",
    "        pickle.dump(results, f)\n",
    "else:\n",
    "    with open(\"results.pickle\", \"rb\") as f:\n",
    "        results = pickle.load(f)"
   ]
  },
  {
   "cell_type": "code",
   "execution_count": null,
   "id": "38c6937d-5d08-4e5b-81ad-0964da2e097f",
   "metadata": {},
   "outputs": [],
   "source": [
    "import pandas as pd\n",
    "import re\n",
    "\n",
    "\n",
    "def get_same(row):\n",
    "    inc_method = row[\"inc_method\"]\n",
    "    browser = row[\"browser\"]\n",
    "    try:\n",
    "        return sorted(map(sorted, row[\"same_channels\"][inc_method][browser][2]))\n",
    "    except Exception as e:\n",
    "        return []\n",
    "    \n",
    "\n",
    "def get_working(row):\n",
    "    browser = row[\"browser\"]\n",
    "    inc_method = row[\"inc_method\"]\n",
    "    entries = row[\"working_methods\"]\n",
    "    if entries is None:\n",
    "        return [], []\n",
    "    working = []\n",
    "    non_working = []\n",
    "    for entry in entries:\n",
    "        match = re.match(f\"{browser}-{inc_method}-(.*?) (.*)\", entry)\n",
    "        method = match[1]\n",
    "        if match[2] == \"works\":\n",
    "            working.append(method)\n",
    "        else:\n",
    "            non_working.append(method)\n",
    "    return sorted(working), sorted(non_working)\n",
    "\n",
    "def get_df(results):\n",
    "    df = pd.DataFrame(results, columns=[\"browser\", \"inc_method\", \"same_channels\", \"working_methods\"])\n",
    "    df[\"same_channels\"] = df.apply(get_same, axis=1).apply(str)\n",
    "    df[[\"working_methods\", \"failing_methods\"]] = df.apply(get_working, axis=1, result_type=\"expand\")\n",
    "    return df\n",
    "\n",
    "df_res = get_df(results)\n",
    "\n",
    "for df in [df_res]:\n",
    "    with pd.option_context(\"display.max_colwidth\", 500):\n",
    "        with pd.option_context(\"display.max_rows\", 80):\n",
    "            #df = df.reindex(sorted(df.columns), axis=1)\n",
    "            display(df.sort_values([\"inc_method\", \"browser\"]))"
   ]
  },
  {
   "cell_type": "code",
   "execution_count": null,
   "id": "f5cfc90f-0d02-4c94-b2cc-5ce8e50d8734",
   "metadata": {},
   "outputs": [],
   "source": [
    "####################################################"
   ]
  },
  {
   "cell_type": "markdown",
   "id": "1db8557c-3779-4c17-b83f-90352d43f76e",
   "metadata": {},
   "source": [
    "## Time estimation\n",
    "- How long it will take depending on response space and server properties"
   ]
  },
  {
   "cell_type": "code",
   "execution_count": null,
   "id": "f34110aa-96b6-46dc-a6d0-a54beae456d5",
   "metadata": {},
   "outputs": [],
   "source": [
    "from itertools import combinations\n",
    "from functools import reduce"
   ]
  },
  {
   "cell_type": "code",
   "execution_count": null,
   "id": "d5a03426-d254-4c0b-995a-ddeca939f6bb",
   "metadata": {},
   "outputs": [],
   "source": [
    "repetitions = 2\n",
    "browsers = 3\n",
    "inc_methods = 20\n",
    "response_space = 63 * (12+1) * 2 * 2 * 8 * 2 * 2 * 2 * 3 * 3\n",
    "\n",
    "############################################### Reduction of tests\n",
    "# Do not test all inclusion methods\n",
    "#inc_methods = 16  # Removed some methods: fetch-cors-(1,2,3) (needs cors, were rare bugs), embed-img (does not work in webkit, embed in firefox, img in chrome)\n",
    "\n",
    "# Do not test all status-codes (for every combination)\n",
    "status_groups = [(101), (100,102,103), (200), (204,205), \n",
    "                 (201,202,203,206,207,208,226), (300), (304, 305), (301,302,303,307,308),\n",
    "                 (407), (400, 401, 402, 403, 404, 405, 406, 408, 410, 411, 412, 413, 414, 415, 416, 417, 418, 421, 422, 423, 424, 425, 426, 428, 429, 431, 451),\n",
    "                 (500, 501, 502, 503, 504, 505, 506, 507, 508, 510, 511),\n",
    "                 (999)]\n",
    "print(f\"Different status-code groups (from prior research): {len(status_groups)}\")\n",
    "# Removed some responses: merge all status-codes that behave the same together (manually extracted from the previous trees)\n",
    "# Might miss some edge cases?\n",
    "# One idea to not miss them: always use one random status-code from the group (and not only decide for one prototype code)? \n",
    "# -> however, this might be problematic for over-fitting trees \n",
    "# we can remap back to the group if this happens/just build trees twice!\n",
    "\n",
    "response_space_groups = (12+1) * (len(status_groups)) * 2 * 2 * 8 * 2 * 2 * 2 * 3 * 3  \n",
    "\n",
    "# Do not test all combinations:\n",
    "# Reduce max combinationdepth from 10 to 6?\n",
    "# only combinations up to depth 5 are needed? (manually extracted from the previous trees)\n",
    "# Get this automatically!\n",
    "# for some (e.g, postMessage) \"empty\" of 3.5 values is needed\n",
    "# to be safe test up to depth 6?? (or better only use 5?; when checking the trees empty was included)\n",
    "# how? status-code is always needed; other things can be empty, thus empty case does not need to be included?\n",
    "# Choose 5 out of 9 = 126; \n",
    "# (63 * N1 * N2 * N3 * N4 * N5) + (63 * N1 * N2 * N3 * N4 * N6) ...\n",
    "# values = [13, 2, 2, 8, 2, 2, 2, 3, 3]\n",
    "values = [12, 1, 1, 7, 1, 1, 1, 2, 2]  # Empty value is not needed anymore: when not chosen it is empty!\n",
    "combs = list(combinations(values, 5))  # (5+1) chosen and (4) empty\n",
    "# combs = list(combinations(values, 4))  # (4+1) chosen and (5) empty\n",
    "space = []\n",
    "for comb in combs:\n",
    "    space.append(reduce(lambda a,b: a*b, comb))\n",
    "# print(space)\n",
    "\n",
    "response_space_lim = reduce(lambda a,b: a+(b*63), space)\n",
    "response_space_lim_groups = reduce(lambda a,b: a+(b*12), space)  # Both response space reductions at the same time\n",
    "\n",
    "# Or random X percent sampling? (might be problematic for the trees/overfitting)\n",
    "sampling = 1\n",
    "#sampling = X. \n",
    "\n",
    "##############################################################\n",
    "\n",
    "print(f\"Total response space: {response_space:,}, status-code groups: {response_space_groups:,}, combination depth 5+1: {response_space_lim:,}, both: {response_space_lim_groups:,}\\n\")\n",
    "response_space = response_space \n",
    "response_space = response_space_groups\n",
    "# response_space = response_space_lim\n",
    "# response_space = response_space_lim_groups\n",
    "total_tests = repetitions * browsers * inc_methods * response_space * sampling\n",
    "print(f\"total tests: {total_tests:,}\")"
   ]
  },
  {
   "cell_type": "code",
   "execution_count": null,
   "id": "9f541b69-5188-4af1-9c6a-aa3fb442cd5c",
   "metadata": {},
   "outputs": [],
   "source": [
    "test_time = 1.7  # Roughly, also depends on browser, inc_method, ...\n",
    "parallel = 100\n",
    "#parallel = 300\n",
    "total_time = total_tests * test_time\n",
    "estimated_time = total_time / parallel\n",
    "estimated_hours = estimated_time / (60*60)\n",
    "estimated_days = estimated_hours / 24\n",
    "\n",
    "print(f\"Total time: {total_time:,}s; estimated time ({parallel} browsers): {estimated_time:,}s\")\n",
    "print(f\"Estimated time in hours: {estimated_hours}, days: {estimated_days}\")"
   ]
  },
  {
   "cell_type": "code",
   "execution_count": null,
   "id": "0c615f44-eafd-461d-a68c-b301f40d54fb",
   "metadata": {},
   "outputs": [],
   "source": [
    "# Time server Chromium/Firefox; ~100 browsers, id_runs=1000\n",
    "print(f\"Days server: {(360 * 20 * 2 * 60) / (60 * 60 * 24)}\")\n",
    "# Time iMac Webkit; 8 browsers, id_runs=40\n",
    "print(f\"Days iMac: {(8986 * 20 * 1 * 30) / (60 * 60 * 24)}\")"
   ]
  }
 ],
 "metadata": {
  "language_info": {
   "name": "python",
   "pygments_lexer": "ipython3"
  }
 },
 "nbformat": 4,
 "nbformat_minor": 5
}
