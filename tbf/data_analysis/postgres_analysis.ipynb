{
 "cells": [
  {
   "cell_type": "code",
   "execution_count": null,
   "id": "1f942f5d-35d7-452a-9dc6-003a3647de60",
   "metadata": {},
   "outputs": [],
   "source": [
    "import os\n",
    "from database_connector import connect, postgresql_to_dataframe"
   ]
  },
  {
   "cell_type": "code",
   "execution_count": null,
   "id": "93744771-2e41-420e-beb6-c2d2580fc352",
   "metadata": {},
   "outputs": [],
   "source": [
    "with open(\"../../database.env\") as f:\n",
    "    for line in f:\n",
    "        key, value = line.strip().split('=', 1)\n",
    "        os.environ[key] = value"
   ]
  },
  {
   "cell_type": "code",
   "execution_count": null,
   "id": "f2cdfa96-ef96-4b5b-a053-91eeb2eb456a",
   "metadata": {},
   "outputs": [],
   "source": [
    "cons = []\n",
    "for db_name in [\"cf\", \"cf_win\", \"webkitmac\"]:\n",
    "    os.environ[\"DB_NAME\"] = db_name\n",
    "    cons.append(connect())"
   ]
  },
  {
   "cell_type": "code",
   "execution_count": null,
   "id": "880a1fa1-d962-4844-9ebf-8d1504c21bc2",
   "metadata": {},
   "outputs": [],
   "source": [
    "def get_dfs(cons, query, columns):\n",
    "    dfs = []\n",
    "    for conn in cons:\n",
    "        dfs.append(postgresql_to_dataframe(conn, query, columns))\n",
    "    return dfs"
   ]
  },
  {
   "cell_type": "markdown",
   "id": "9cb0f4f4-67a4-413e-a06a-818d9392f8a1",
   "metadata": {},
   "source": [
    "# Analysis"
   ]
  },
  {
   "cell_type": "markdown",
   "id": "11ff5b6d-9e8b-4aa9-a020-0cb5b7c4bdce",
   "metadata": {},
   "source": [
    "## Observations\n",
    "- all observations\n",
    "- most have roughly the number of records they should have\n",
    "- window.open was broken for Chrome and Firefox (reason: node 14), thus it was redone db=cf_win (with node 17)"
   ]
  },
  {
   "cell_type": "code",
   "execution_count": null,
   "id": "29ca38ae-2732-48ba-935e-6ee17f51db19",
   "metadata": {},
   "outputs": [],
   "source": [
    "urls = 359424\n",
    "runs = 2\n",
    "print(f\"Should be {urls * runs} records for every inclusion method and browser\")"
   ]
  },
  {
   "cell_type": "code",
   "execution_count": null,
   "id": "8870e63d-cb41-4e89-b9fa-ce7e44a0da06",
   "metadata": {},
   "outputs": [],
   "source": [
    "# Count of observations\n",
    "query = \"\"\"\n",
    "SELECT \n",
    "    inc_method, browser, COUNT(id)\n",
    "FROM\n",
    "    observations GROUP BY inc_method, browser;\n",
    "\"\"\"\n",
    "columns = [\"inc_method\", \"browser\", \"count\"]\n",
    "counts = get_dfs(cons, query, columns)"
   ]
  },
  {
   "cell_type": "code",
   "execution_count": null,
   "id": "01b84e27-2189-4933-a5e4-aec5011b784f",
   "metadata": {},
   "outputs": [],
   "source": [
    "for df in counts:\n",
    "    display(df)"
   ]
  },
  {
   "cell_type": "markdown",
   "id": "c20ac4b7-16a2-4ca7-b2da-fd7983179625",
   "metadata": {},
   "source": [
    "## Errors and retries\n",
    "- some retries (specially Firefox) that have no error entry (i.e., failed without an entry in db?)\n",
    "- mostly almost no errors/retries, Firefox some more"
   ]
  },
  {
   "cell_type": "code",
   "execution_count": null,
   "id": "3e81c49b-eb30-451f-a535-9b34bacfe9df",
   "metadata": {},
   "outputs": [],
   "source": [
    "# Count of errors and retries\n",
    "query = \"\"\"\n",
    "SELECT \n",
    "    inc_method, browser, retry, error, COUNT(id)\n",
    "FROM\n",
    "    observations GROUP BY inc_method, browser, retry, error;\n",
    "\"\"\"\n",
    "columns = [\"inc_method\", \"browser\", \"retry\", \"error\", \"count\"]\n",
    "errs = get_dfs(cons, query, columns)"
   ]
  },
  {
   "cell_type": "code",
   "execution_count": null,
   "id": "b0a4a4b3-5612-44b6-9bbb-f19a604fb7de",
   "metadata": {},
   "outputs": [],
   "source": [
    "for df in errs:\n",
    "    display(df)"
   ]
  },
  {
   "cell_type": "markdown",
   "id": "1bc8f90e-cddf-4430-89ff-4479373056be",
   "metadata": {},
   "source": [
    "## Notes\n",
    "- promiseAny -> node 14 did not support it\n",
    "- Popup event often does not fire: webkit almost never fires it, firefox 50%?, chromium 70%?\n",
    "- ..."
   ]
  },
  {
   "cell_type": "code",
   "execution_count": null,
   "id": "1f525403-a827-4b6a-b12a-5324828efc1d",
   "metadata": {},
   "outputs": [],
   "source": [
    "# Count of notes\n",
    "query = \"\"\"\n",
    "SELECT\n",
    "    regexp_replace(notes, '/echo/\\d+/', '/echo/<redacted>/', 'g') AS note,\n",
    "    inc_method,\n",
    "    browser,\n",
    "    count(id)\n",
    "FROM\n",
    "    observations\n",
    "GROUP BY\n",
    "    note,\n",
    "    inc_method,\n",
    "    browser\n",
    "ORDER BY\n",
    "    count DESC;\n",
    "\"\"\"\n",
    "columns = [\"note\", \"inc_method\", \"browser\", \"count\"]\n",
    "notes = get_dfs(cons, query, columns)"
   ]
  },
  {
   "cell_type": "code",
   "execution_count": null,
   "id": "7b62c8ee-5edd-4763-8c4f-64483f27d656",
   "metadata": {},
   "outputs": [],
   "source": [
    "for df in notes:\n",
    "    display(df)"
   ]
  },
  {
   "cell_type": "markdown",
   "id": "89110497-07cf-4c2d-82f2-edbe28b5a259",
   "metadata": {},
   "source": [
    "## Timing \n",
    "- webkit very fast for iframe and stuff (min)?\n",
    "- webkit averages high as echo + opg only run on imac and it has to go over the network for mbp1, mbp2\n",
    "- firefox has more std than chromium\n",
    "- audio, video, img -> firefox and webkit way higher times than chromium"
   ]
  },
  {
   "cell_type": "code",
   "execution_count": null,
   "id": "c070d3ec-2170-4ddb-86ad-abd6da001dd4",
   "metadata": {},
   "outputs": [],
   "source": [
    "# TIMING\n",
    "query = \"\"\"\n",
    "SELECT\n",
    "\tinc_method,\n",
    "\tbrowser,\n",
    "\tmin(cast (observation->'loading_time' as INT)) as \"min loading\",\n",
    "\tavg(CAST (observation->'loading_time' as INT)) as \"avg loading\",\n",
    "\tstddev(CAST (observation->'loading_time' as INT)) as \"std loading\",\n",
    "\tmax(CAST (observation->'loading_time' as INT)) as \"max loading\",\n",
    "\tmin(CAST (observation->'complete_time' as INT)) as \"min complete\",\n",
    "\tavg(cast (observation->'complete_time' as INT)) as \"avg complete\",\n",
    "\tstddev(CAST (observation->'complete_time' as INT)) as \"std complete\",\n",
    "\tmax(cast (observation->'complete_time' as INT)) as \"max complete\"\n",
    "FROM\n",
    "\tobservations\n",
    "GROUP BY\n",
    "\tinc_method,\n",
    "\tbrowser\n",
    "\"\"\"\n",
    "columns = [\"inc_method\", \"browser\", \"min loading\", \"avg loading\", \"std loading\", \"max loading\", \"min complete\", \"avg complete\", \"std complete\", \"max complete\"]\n",
    "times = get_dfs(cons, query, columns)"
   ]
  },
  {
   "cell_type": "code",
   "execution_count": null,
   "id": "8f47f908-ec9b-4a1d-8966-cad43e5a8c8d",
   "metadata": {},
   "outputs": [],
   "source": [
    "for df in times:\n",
    "    display(df.describe())"
   ]
  },
  {
   "cell_type": "code",
   "execution_count": null,
   "id": "8d53c689-7235-46de-a952-a12473b0793d",
   "metadata": {},
   "outputs": [],
   "source": [
    "for df in times:\n",
    "    display(df)"
   ]
  },
  {
   "cell_type": "code",
   "execution_count": null,
   "id": "f86ebabc-8f65-4789-904d-eb1b7b54d0b3",
   "metadata": {},
   "outputs": [],
   "source": [
    "# Time taken\n",
    "query = \"\"\"\n",
    "SELECT\n",
    "\tmin(insertion_time), max(insertion_time)\n",
    "FROM\n",
    "\tobservations\n",
    "\"\"\"\n",
    "columns = [\"First entry\", \"Last entry\"]\n",
    "dates = get_dfs(cons, query, columns)"
   ]
  },
  {
   "cell_type": "code",
   "execution_count": null,
   "id": "d12ee344-36e5-4017-a7b2-d31587f0b6eb",
   "metadata": {},
   "outputs": [],
   "source": [
    "for df in dates:\n",
    "    display(df)"
   ]
  },
  {
   "cell_type": "code",
   "execution_count": null,
   "id": "0378ec56-18dc-42f5-885c-fa1aeef74c5a",
   "metadata": {},
   "outputs": [],
   "source": [
    "dates[2][\"Last entry\"] - dates[2][\"First entry\"]"
   ]
  }
 ],
 "metadata": {
  "language_info": {
   "name": "python",
   "pygments_lexer": "ipython3"
  }
 },
 "nbformat": 4,
 "nbformat_minor": 5
}
