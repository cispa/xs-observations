{
 "cells": [
  {
   "cell_type": "code",
   "execution_count": null,
   "id": "e06cac7e-8451-4440-93f4-155084a28a15",
   "metadata": {},
   "outputs": [],
   "source": [
    "import pandas as pd\n",
    "import glob"
   ]
  },
  {
   "cell_type": "markdown",
   "id": "43e15eb2-d70c-4036-862e-e4b4369fdd42",
   "metadata": {},
   "source": [
    "# Stability analysis\n",
    "- how many of all channels have more than one result? -> they are in the stability frame\n",
    "- how many of them are stable?\n",
    "- \"problem\": some of them only have more than one result when including the unstable observations, after removing them, they only have one observation left!"
   ]
  },
  {
   "cell_type": "code",
   "execution_count": null,
   "id": "bd3a230e-5bd3-4e27-a7f8-3eac3dcf7aef",
   "metadata": {},
   "outputs": [],
   "source": [
    "# All possible channels\n",
    "all_channels = 3 * 20 * 34\n",
    "all_channels"
   ]
  },
  {
   "cell_type": "code",
   "execution_count": null,
   "id": "387889d1-19d5-46bb-91f0-8f73069f1a72",
   "metadata": {},
   "outputs": [],
   "source": [
    "stability_files = glob.glob(\"trees/2022-04-22-2/stab/*\")\n",
    "df = pd.DataFrame()\n",
    "for file in stability_files:\n",
    "    df = pd.concat([df, pd.read_csv(file, index_col=0)])"
   ]
  },
  {
   "cell_type": "code",
   "execution_count": null,
   "id": "2a2681fa-ac44-43cb-a940-16fdee699376",
   "metadata": {},
   "outputs": [],
   "source": [
    "df = df.sort_values(\"ratio\", ascending=False)\n",
    "df.head(5)"
   ]
  },
  {
   "cell_type": "code",
   "execution_count": null,
   "id": "547430e3-4883-43fe-8dff-54ef261a3d69",
   "metadata": {},
   "outputs": [],
   "source": [
    "df.describe()"
   ]
  },
  {
   "cell_type": "code",
   "execution_count": null,
   "id": "b1d23e11-2194-4174-bc68-81dc7af5947f",
   "metadata": {},
   "outputs": [],
   "source": [
    "a = df.loc[df[\"ratio\"] < 0.01]\n",
    "a.describe()"
   ]
  },
  {
   "cell_type": "code",
   "execution_count": null,
   "id": "8d0fa10d-b204-486b-a91f-7bfe912a7615",
   "metadata": {},
   "outputs": [],
   "source": [
    "b = df.loc[df[\"ratio\"] > 0.01]\n",
    "b.describe()"
   ]
  },
  {
   "cell_type": "code",
   "execution_count": null,
   "id": "6cf470d8-bfe8-441d-adeb-f1cd5e2178dd",
   "metadata": {},
   "outputs": [],
   "source": [
    "b"
   ]
  },
  {
   "cell_type": "code",
   "execution_count": null,
   "id": "74bad0b8-0532-4e35-b331-660ce188d220",
   "metadata": {},
   "outputs": [],
   "source": [
    "with pd.option_context(\"display.max_colwidth\", None):\n",
    "    display(b.groupby(\"browser\")[\"observation_method\"].unique().to_frame())"
   ]
  },
  {
   "cell_type": "markdown",
   "id": "dd6f06d6-9b8b-447c-91e7-8d96d55f5fa8",
   "metadata": {},
   "source": [
    "## Num observations analysis\n",
    "- Out of the stable channels\n",
    "- How many observations remain"
   ]
  },
  {
   "cell_type": "code",
   "execution_count": null,
   "id": "44994c31-0015-4d44-806d-dc620ca5ccf3",
   "metadata": {},
   "outputs": [],
   "source": [
    "import json\n",
    "channel_files = same_files = glob.glob(\"trees/2022-04-22-2/obs/*\")\n",
    "df = pd.DataFrame(columns=[\"browser\", \"inc_method\", \"observation_method\", \"observation\", \"count\"])\n",
    "for file in channel_files:\n",
    "    file_2 = file.replace(\"fetch_errormessage\", \"fetch-errormessage\").replace(\"fetch_response\", \"fetch-response\")\n",
    "    inc_method, observation_method, browser, *_ = file_2.split(\"obs/\")[1].split(\"_\")\n",
    "    observation_method = observation_method.replace(\"fetch-errormessage\", \"fetch_errormessage\").replace(\"fetch-response\", \"fetch_response\")\n",
    "    with open(file) as f:\n",
    "        j = json.load(f)\n",
    "    for _, val in j.items():\n",
    "        df.loc[len(df)] = [browser, inc_method, observation_method, val[\"observation\"], val[\"count\"]]"
   ]
  },
  {
   "cell_type": "code",
   "execution_count": null,
   "id": "cbf17f1b-89c1-4be4-9167-de7101b8efad",
   "metadata": {},
   "outputs": [],
   "source": [
    "df.groupby([\"browser\", \"inc_method\", \"observation_method\"])[\"observation\"].count().to_frame()"
   ]
  },
  {
   "cell_type": "code",
   "execution_count": null,
   "id": "3567da20-c5bc-4626-afe5-e3c1ed5d0122",
   "metadata": {},
   "outputs": [],
   "source": [
    "df.loc[df[\"observation\"].apply(str).str.contains(\"echo\")]"
   ]
  },
  {
   "cell_type": "code",
   "execution_count": null,
   "id": "f8b59cab-f742-478f-b570-0c559783bc5c",
   "metadata": {},
   "outputs": [],
   "source": [
    "df.groupby([\"browser\", \"inc_method\", \"observation_method\"])[\"observation\"].count().to_frame().value_counts()"
   ]
  },
  {
   "cell_type": "code",
   "execution_count": null,
   "id": "f0fbac15-3c88-456b-af81-fa7e51717d09",
   "metadata": {},
   "outputs": [],
   "source": [
    "from pandas.api.types import CategoricalDtype\n",
    "obs_methods = [\n",
    "  \"height\",\n",
    "  \"width\",\n",
    "  \"naturalHeight\",\n",
    "  \"naturalWidth\",\n",
    "  \"videoHeight\",\n",
    "  \"videoWidth\",\n",
    "  \"duration\",\n",
    "  \"networkState\",\n",
    "  \"readyState\",\n",
    "  \"buffered\",\n",
    "  \"paused\",\n",
    "  \"seekable\",\n",
    "  \"sheet\",\n",
    "  \"error\",\n",
    "  \"contentDocument\",\n",
    "  \"length\",\n",
    "  \"window.name\",\n",
    "  \"CSS2Properties\",\n",
    "  \"origin\",\n",
    "  \"opener\",\n",
    "  \"el-error\",\n",
    "  \"el-blur\",\n",
    "  \"el-message\",\n",
    "  \"el-securitypolicyviolation.smooth\",\n",
    "  \"history.length\",\n",
    "  \"getComputedStyle\",\n",
    "  \"hasOwnProperty-a\",\n",
    "  \"windowHeight\",\n",
    "  \"events-fired\",\n",
    "  \"events-fired-all\",\n",
    "  \"performanceAPI.smooth\",\n",
    "  \"win.performanceAPI.smooth\",\n",
    "  \"fetch_events\",\n",
    "  \"fetch_errormessage\",\n",
    "  \"fetch_response\"\n",
    "]\n",
    "obs_type = CategoricalDtype(categories=obs_methods)"
   ]
  },
  {
   "cell_type": "code",
   "execution_count": null,
   "id": "4c911800-f676-4d90-8ea5-fe15379e3620",
   "metadata": {},
   "outputs": [],
   "source": [
    "d = df.drop_duplicates(subset=[\"browser\", \"inc_method\", \"observation_method\"])\n",
    "d[\"inc_method\"] = d[\"inc_method\"].astype(\"category\")\n",
    "d[\"observation_method\"] = d[\"observation_method\"].astype(obs_type)\n",
    "for grouping in [[\"inc_method\", \"observation_method\"], [\"inc_method\"], [\"observation_method\"]]:\n",
    "    channels = d.groupby(grouping)[\"browser\"].unique()\n",
    "    print(f\"Unique channels: {len(channels.index.unique())}\")\n",
    "    channels =  channels.dropna().apply(sorted).to_frame()\n",
    "    print(f\"Unique channels (existing): {len(channels.index.unique())}, broken?\")\n",
    "    channels_all = channels.loc[channels[\"browser\"].apply(len) == 3]\n",
    "    channels_two = channels.loc[channels[\"browser\"].apply(len) == 2]\n",
    "    channels_one = channels.loc[channels[\"browser\"].apply(len) == 1]\n",
    "    for channels_x in [channels_all, channels_two, channels_one]:\n",
    "        with pd.option_context(\"display.max_rows\", 100):\n",
    "            display(len(channels_x))\n",
    "            display(channels_x)"
   ]
  },
  {
   "cell_type": "code",
   "execution_count": null,
   "id": "da4b5236-92eb-4f44-8b8b-ad31c5bd04ad",
   "metadata": {},
   "outputs": [],
   "source": [
    "for col in [\"browser\", \"inc_method\", \"observation_method\"]:\n",
    "    with pd.option_context(\"display.max_rows\", 100):\n",
    "        display(d.groupby(\"browser\")[col].value_counts().to_frame())\n",
    "        display(d[col].value_counts().to_frame())"
   ]
  },
  {
   "cell_type": "code",
   "execution_count": null,
   "id": "7541ea30-f35e-4c9c-9f7d-396af9953d23",
   "metadata": {},
   "outputs": [],
   "source": [
    "# All channels that only have one observation left after removing the tests with different results! (e.g., chromium link-stylesheet.sheet)\n",
    "# Or channels that have only one observation left after removing observations with count less than 32! (e.g., firefox link-prefetch-events-fired-all)\n",
    "with pd.option_context(\"display.max_rows\", 78):\n",
    "    display(pd.concat([a, df.drop_duplicates(subset=[\"browser\", \"inc_method\", \"observation_method\"])]).drop_duplicates(subset=[\"browser\", \"inc_method\", \"observation_method\"], keep=False))"
   ]
  },
  {
   "cell_type": "markdown",
   "id": "79a28616-0ca2-4baf-a43d-fce4383bdbd2",
   "metadata": {},
   "source": [
    "## Sameness analysis\n",
    "- all rows with less than 32 observations were removed!"
   ]
  },
  {
   "cell_type": "code",
   "execution_count": null,
   "id": "fc51e239-1f9f-40dc-8be4-3f7c683062d2",
   "metadata": {},
   "outputs": [],
   "source": [
    "same_files = glob.glob(\"trees/2022-04-22-2/same/*\")\n",
    "df = pd.DataFrame()\n",
    "for file in same_files:\n",
    "    tmp = pd.read_csv(file)\n",
    "    df = pd.concat([df, tmp])\n",
    "    tmp = tmp.loc[tmp['0'] < 200]\n",
    "    tmp = tmp.loc[tmp['0'] > 0]\n",
    "    if len(tmp) > 0:\n",
    "        print(file)\n",
    "        display(tmp)"
   ]
  },
  {
   "cell_type": "code",
   "execution_count": null,
   "id": "22c62014-61d6-48f5-aa0c-e3d047ee20ac",
   "metadata": {},
   "outputs": [],
   "source": [
    "df"
   ]
  }
 ],
 "metadata": {
  "language_info": {
   "name": "python",
   "pygments_lexer": "ipython3"
  }
 },
 "nbformat": 4,
 "nbformat_minor": 5
}
